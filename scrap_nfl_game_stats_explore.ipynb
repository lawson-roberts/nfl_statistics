{
 "cells": [
  {
   "cell_type": "code",
   "execution_count": 29,
   "metadata": {},
   "outputs": [],
   "source": [
    "import pandas as pd\n",
    "import numpy as np\n",
    "from pandas import json_normalize\n",
    "import json\n",
    "#from selenium.webdriver.support.expected_conditions import element_selection_state_to_be\n",
    "#import matplotlib.pyplot as plt\n",
    "import base64\n",
    "#import matplotlib.pyplot as plt\n",
    "import io\n",
    "import os\n",
    "from math import floor\n",
    "\n",
    "## web crawling packages\n",
    "import time\n",
    "from datetime import date\n",
    "from datetime import datetime\n",
    "import datetime\n",
    "import requests\n",
    "from lxml import html\n",
    "import csv\n",
    "import urllib.request\n",
    "from html_table_parser.parser import HTMLTableParser\n",
    "from pprint import pprint\n",
    "\n",
    "from selenium import webdriver\n",
    "from selenium.webdriver.common.keys import Keys\n",
    "from selenium.webdriver.support.select import Select\n",
    "import chromedriver_autoinstaller\n",
    "import selenium"
   ]
  },
  {
   "cell_type": "markdown",
   "metadata": {},
   "source": [
    "## scrapping game id's from espn"
   ]
  },
  {
   "cell_type": "code",
   "execution_count": null,
   "metadata": {},
   "outputs": [],
   "source": [
    "//*[@id=\"401326436\"]\n",
    "//*[@id=\"401326436\"]\n",
    "/html/body/div[1]/div/div/div/div[4]/div[3]/div/div[1]/div[1]/div/section[1]/div/section"
   ]
  },
  {
   "cell_type": "code",
   "execution_count": 30,
   "metadata": {},
   "outputs": [],
   "source": [
    "driver_path = chromedriver_autoinstaller.install()\n",
    "driver = webdriver.Chrome(driver_path)\n",
    "driver.get('https://www.espn.com/nfl/scoreboard/_/week/8/year/2021/seasontype/2')"
   ]
  },
  {
   "cell_type": "code",
   "execution_count": 43,
   "metadata": {},
   "outputs": [
    {
     "data": {
      "text/plain": [
       "['401326436']"
      ]
     },
     "execution_count": 43,
     "metadata": {},
     "output_type": "execute_result"
    }
   ],
   "source": [
    "thursday = driver.find_elements_by_xpath('/html/body/div[1]/div/div/div/div[4]/div[3]/div/div[1]/div[1]/div/section[1]/div/section')\n",
    "\n",
    "thursday_list = []\n",
    "for p in range(len(thursday)):\n",
    "    thursday_list.append(thursday[p].get_attribute(\"id\"))\n",
    "\n",
    "thursday_list"
   ]
  },
  {
   "cell_type": "code",
   "execution_count": 44,
   "metadata": {},
   "outputs": [
    {
     "data": {
      "text/plain": [
       "['401326437',\n",
       " '401326438',\n",
       " '401326439',\n",
       " '401326440',\n",
       " '401326441',\n",
       " '401326443',\n",
       " '401326444',\n",
       " '401326442',\n",
       " '401326445',\n",
       " '401326446',\n",
       " '401326447',\n",
       " '401326448',\n",
       " '401326449']"
      ]
     },
     "execution_count": 44,
     "metadata": {},
     "output_type": "execute_result"
    }
   ],
   "source": [
    "sunday = driver.find_elements_by_xpath('/html/body/div[1]/div/div/div/div[4]/div[3]/div/div[1]/div[1]/div/section[2]/div/section')\n",
    "\n",
    "sunday_list = []\n",
    "for p in range(len(sunday)):\n",
    "    sunday_list.append(sunday[p].get_attribute(\"id\"))\n",
    "\n",
    "sunday_list"
   ]
  },
  {
   "cell_type": "code",
   "execution_count": 45,
   "metadata": {},
   "outputs": [
    {
     "data": {
      "text/plain": [
       "['401326450']"
      ]
     },
     "execution_count": 45,
     "metadata": {},
     "output_type": "execute_result"
    }
   ],
   "source": [
    "monday = driver.find_elements_by_xpath('/html/body/div[1]/div/div/div/div[4]/div[3]/div/div[1]/div[1]/div/section[3]/div/section')\n",
    "\n",
    "monday_list = []\n",
    "for p in range(len(monday)):\n",
    "    monday_list.append(monday[p].get_attribute(\"id\"))\n",
    "\n",
    "monday_list"
   ]
  },
  {
   "cell_type": "code",
   "execution_count": null,
   "metadata": {},
   "outputs": [],
   "source": []
  },
  {
   "cell_type": "markdown",
   "metadata": {},
   "source": [
    "## scraping individual game data -- we just need to find a way we get scrap all the game id's and then pass them to the functions below"
   ]
  },
  {
   "cell_type": "code",
   "execution_count": 3,
   "metadata": {},
   "outputs": [],
   "source": [
    "# Opens a website and read its\n",
    "# binary contents (HTTP Response Body)\n",
    "def url_get_contents(url):\n",
    "\n",
    "    # Opens a website and read its\n",
    "    # binary contents (HTTP Response Body)\n",
    "\n",
    "    #making request to the website\n",
    "    req = urllib.request.Request(url=url)\n",
    "    f = urllib.request.urlopen(req)\n",
    "\n",
    "    #reading contents of the website\n",
    "    return f.read()"
   ]
  },
  {
   "cell_type": "code",
   "execution_count": 4,
   "metadata": {},
   "outputs": [
    {
     "name": "stdout",
     "output_type": "stream",
     "text": [
      "[['Matchup', '', ''],\n",
      " ['1st Downs', '25', '19'],\n",
      " ['Passing 1st downs', '15', '16'],\n",
      " ['Rushing 1st downs', '9', '2'],\n",
      " ['1st downs from penalties', '1', '1'],\n",
      " ['3rd down efficiency', '4-11', '6-12'],\n",
      " ['4th down efficiency', '1-4', '1-1'],\n",
      " ['Total Plays', '70', '53'],\n",
      " ['Total Yards', '430', '304'],\n",
      " ['Total Drives', '10', '9'],\n",
      " ['Yards per Play', '6.1', '5.7'],\n",
      " ['Passing', '235', '247'],\n",
      " ['Comp-Att', '25-37', '27-35'],\n",
      " ['Yards per pass', '5.7', '6.5'],\n",
      " ['Interceptions thrown', '1', '0'],\n",
      " ['Sacks-Yards Lost', '4-33', '3-27'],\n",
      " ['Rushing', '195', '57'],\n",
      " ['Rushing Attempts', '29', '15'],\n",
      " ['Yards per rush', '6.7', '3.8'],\n",
      " ['Red Zone (Made-Att)', '0-4', '2-4'],\n",
      " ['Penalties', '4-50', '4-36'],\n",
      " ['Turnovers', '2', '1'],\n",
      " ['Fumbles lost', '1', '1'],\n",
      " ['Interceptions thrown', '1', '0'],\n",
      " ['Defensive / Special Teams TDs', '0', '0'],\n",
      " ['Possession', '32:54', '27:06']]\n"
     ]
    }
   ],
   "source": [
    "# defining the html contents of a URL.\n",
    "xhtml = url_get_contents('https://www.espn.com/nfl/matchup?gameId=401326425').decode('utf-8')\n",
    "\n",
    "# Defining the HTMLTableParser object\n",
    "p = HTMLTableParser()\n",
    "\n",
    "# feeding the html contents in the\n",
    "# HTMLTableParser object\n",
    "p.feed(xhtml)\n",
    "\n",
    "# Now finally obtaining the data of\n",
    "# the table required\n",
    "pprint(p.tables[1])"
   ]
  },
  {
   "cell_type": "code",
   "execution_count": 26,
   "metadata": {},
   "outputs": [
    {
     "name": "stdout",
     "output_type": "stream",
     "text": [
      "Level Two gets you each row... ['1st Downs', '25', '19']\n",
      "row header... 1st Downs\n",
      "away data point... 25\n",
      "home data point... 19\n"
     ]
    }
   ],
   "source": [
    "print('Level Two gets you each row...', p.tables[1][1])\n",
    "print('row header...', p.tables[1][1][0])\n",
    "print('away data point...', p.tables[1][1][1])\n",
    "print('home data point...', p.tables[1][1][2])"
   ]
  },
  {
   "cell_type": "markdown",
   "metadata": {},
   "source": [
    "### need to just write a loop to go through this table and extract all points"
   ]
  },
  {
   "cell_type": "code",
   "execution_count": null,
   "metadata": {},
   "outputs": [],
   "source": []
  },
  {
   "cell_type": "code",
   "execution_count": null,
   "metadata": {},
   "outputs": [],
   "source": []
  }
 ],
 "metadata": {
  "interpreter": {
   "hash": "9c7582f4a6feb7c359912f8b06fde634a94fed0a85a0339f87cb41cb706467af"
  },
  "kernelspec": {
   "display_name": "Python 3.8.10 64-bit ('nfl': conda)",
   "language": "python",
   "name": "python3"
  },
  "language_info": {
   "codemirror_mode": {
    "name": "ipython",
    "version": 3
   },
   "file_extension": ".py",
   "mimetype": "text/x-python",
   "name": "python",
   "nbconvert_exporter": "python",
   "pygments_lexer": "ipython3",
   "version": "3.8.10"
  },
  "orig_nbformat": 4
 },
 "nbformat": 4,
 "nbformat_minor": 2
}
